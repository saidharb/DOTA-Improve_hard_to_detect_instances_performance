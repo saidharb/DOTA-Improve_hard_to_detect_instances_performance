{
 "cells": [
  {
   "cell_type": "markdown",
   "id": "75c915e1-5e90-468f-81f0-76c10587b8c6",
   "metadata": {},
   "source": [
    "# YOLOv8 Preparation\n",
    "\n",
    "The content of this notebook can be found in the file `prepare_yolo.py`. This notebook is only for understanding the code."
   ]
  },
  {
   "cell_type": "code",
   "execution_count": 1,
   "id": "472c7bbd-9366-4520-bbc0-deef95c68407",
   "metadata": {},
   "outputs": [],
   "source": [
    "import os\n",
    "from os.path import join, basename\n",
    "from glob import glob\n",
    "from importlib import reload\n",
    "import time\n",
    "\n",
    "import matplotlib.pyplot as plt\n",
    "import numpy as np\n",
    "from natsort import natsorted\n",
    "from PIL import Image\n",
    "import torch\n",
    "from torch.utils.data import DataLoader\n",
    "from ultralytics import YOLO\n",
    "import yaml\n",
    "import shutil\n",
    "from sklearn.model_selection import train_test_split\n",
    "\n",
    "import dataset\n",
    "reload(dataset)\n",
    "from dataset import DotaDataset"
   ]
  },
  {
   "cell_type": "markdown",
   "id": "52ab5da8-94e5-4e29-8d1d-af28d52ee055",
   "metadata": {},
   "source": [
    "#### Project Parameters"
   ]
  },
  {
   "cell_type": "code",
   "execution_count": 2,
   "id": "ec43c0bc-ab3c-4026-a22c-fcbefd524515",
   "metadata": {},
   "outputs": [],
   "source": [
    "DATA_DIR = \"../04-Data\""
   ]
  },
  {
   "cell_type": "markdown",
   "id": "0efe5c88-430c-4ca9-ae9e-f4f8eb5adec3",
   "metadata": {},
   "source": [
    "#### Locate images and targets"
   ]
  },
  {
   "cell_type": "code",
   "execution_count": 3,
   "id": "14b664eb-00a1-4fbf-bd89-d6c61961a420",
   "metadata": {},
   "outputs": [],
   "source": [
    "train_targets_path = os.path.join(DATA_DIR,\"patches_1024\", 'train_targets_patches')\n",
    "train_images_path = os.path.join(DATA_DIR,\"patches_1024\",'train_images_patches')\n",
    "\n",
    "train_images_list = glob(join(train_images_path, \"**\", \"*.png\"),recursive=True)\n",
    "train_images_list = natsorted(train_images_list, key=lambda y: y.lower())\n",
    "train_targets_list = glob(join(train_targets_path, \"**\", \"*.txt\"),recursive=True)\n",
    "train_targets_list = natsorted(train_targets_list, key=lambda y: y.lower())\n",
    "\n",
    "val_targets_path = os.path.join(DATA_DIR,\"patches_1024\",'val_targets_patches')\n",
    "val_images_path = os.path.join(DATA_DIR,'patches_1024', \"val_images_patches\")\n",
    "\n",
    "val_images_list = glob(join(val_images_path, \"**\", \"*.png\"),recursive=True)\n",
    "val_images_list = natsorted(val_images_list, key=lambda y: y.lower())\n",
    "val_targets_list = glob(join(val_targets_path, \"**\", \"*.txt\"),recursive=True)\n",
    "val_targets_list = natsorted(val_targets_list, key=lambda y: y.lower())\n",
    "\n",
    "test_targets_path = os.path.join(DATA_DIR,\"patches_1024\",'test_targets_patches')\n",
    "test_images_path = os.path.join(DATA_DIR,'patches_1024', \"test_images_patches\")\n",
    "\n",
    "test_images_list = glob(join(test_images_path, \"**\", \"*.png\"),recursive=True)\n",
    "test_images_list = natsorted(test_images_list, key=lambda y: y.lower())\n",
    "test_targets_list = glob(join(test_targets_path, \"**\", \"*.txt\"),recursive=True)\n",
    "test_targets_list = natsorted(test_targets_list, key=lambda y: y.lower())"
   ]
  },
  {
   "cell_type": "code",
   "execution_count": 4,
   "id": "7ad9aa74-82c9-4f23-a7b0-a93202175bb9",
   "metadata": {},
   "outputs": [
    {
     "name": "stdout",
     "output_type": "stream",
     "text": [
      "Train images: 21132\n",
      "Train targets: 21132\n",
      "Val images: 3139\n",
      "Val targets: 3139\n",
      "Test images: 2279\n",
      "Test targets: 2279\n"
     ]
    }
   ],
   "source": [
    "print(f\"Train images: {len(train_images_list)}\")\n",
    "print(f\"Train targets: {len(train_targets_list)}\")\n",
    "print(f\"Val images: {len(val_images_list)}\")\n",
    "print(f\"Val targets: {len(val_targets_list)}\")\n",
    "print(f\"Test images: {len(test_images_list)}\")\n",
    "print(f\"Test targets: {len(test_targets_list)}\")"
   ]
  },
  {
   "cell_type": "markdown",
   "id": "f9ebf60f-57b3-4c8e-b8d1-3b5518e1480f",
   "metadata": {},
   "source": [
    "#### Modify dataset to YOLO standard\n",
    "\n",
    "YOLO models require the bounding boxes to be in the format ```label x_center y_center width height```and they need a specific data directory structure"
   ]
  },
  {
   "cell_type": "code",
   "execution_count": 5,
   "id": "34790f1b-ef5b-4076-97ab-65dcdc1143bd",
   "metadata": {},
   "outputs": [],
   "source": [
    "def extract_hbb(pxl_coordinates: list):\n",
    "    '''\n",
    "    Creates a dictionary of bounding box information and returns a list of dictionaries containing bounding box information\n",
    "\n",
    "    pxl_coordinates: List of strings\n",
    "    '''\n",
    "    bounding_boxes=[]\n",
    "    for location in pxl_coordinates: \n",
    "        parts = location.strip().split()\n",
    "        bounding_boxes.append({'label': parts[-2],\n",
    "                              'x1': float(parts[0]), # x_min\n",
    "                              'y1': float(parts[1]), # y_min\n",
    "                              'x2': float(parts[2]), \n",
    "                              'y2': float(parts[3]), \n",
    "                              'x3': float(parts[4]), # x_max\n",
    "                              'y3': float(parts[5]), # y_max\n",
    "                              'x4': float(parts[6]), \n",
    "                              'y4': float(parts[7]), \n",
    "                              'difficulty': int(parts[-1])})\n",
    "    return bounding_boxes"
   ]
  },
  {
   "cell_type": "code",
   "execution_count": 6,
   "id": "e7a16a96-bdf2-45c1-aeae-68c69138a634",
   "metadata": {},
   "outputs": [],
   "source": [
    "def read_txt(path):\n",
    "    '''\n",
    "    Reads .txt files and returns a list of strings (lines of the .txt file)\n",
    "\n",
    "    path: Path to .txt file\n",
    "    '''\n",
    "    with open(path, 'r') as file:\n",
    "        lines = file.readlines()\n",
    "    return lines"
   ]
  },
  {
   "cell_type": "code",
   "execution_count": 7,
   "id": "8e69a464-2666-43b3-ba82-8c921530b0fb",
   "metadata": {},
   "outputs": [],
   "source": [
    "class_to_idx = {\n",
    "           \"ship\" : 0, \n",
    "           \"storage-tank\" : 1, \n",
    "           \"baseball-diamond\" : 2, \n",
    "           \"tennis-court\" : 3, \n",
    "           \"basketball-court\" : 4, \n",
    "           \"ground-track-field\" : 5, \n",
    "           \"bridge\" : 6, \n",
    "           \"large-vehicle\" : 7, \n",
    "           \"small-vehicle\" : 8, \n",
    "           \"helicopter\" : 9, \n",
    "           \"swimming-pool\" : 10, \n",
    "           \"roundabout\" : 11, \n",
    "           \"soccer-ball-field\" : 12, \n",
    "           \"plane\" : 13, \n",
    "           \"harbor\" : 14,\n",
    "           \"container-crane\" : 15,\n",
    "           \"no_object\": 16} # for empty images"
   ]
  },
  {
   "cell_type": "code",
   "execution_count": 8,
   "id": "36597ca8-082a-46fe-925a-6eb7eade9f87",
   "metadata": {},
   "outputs": [],
   "source": [
    "idx_to_class = {\n",
    "           0 : \"ship\", \n",
    "           1 : \"storage-tank\", \n",
    "           2 : \"baseball-diamond\", \n",
    "           3 : \"tennis-court\", \n",
    "           4 : \"basketball-court\", \n",
    "           5 : \"ground-track-field\", \n",
    "           6 : \"bridge\", \n",
    "           7 : \"large-vehicle\", \n",
    "           8 : \"small-vehicle\", \n",
    "           9 :\"helicopter\", \n",
    "           10 : \"swimming-pool\", \n",
    "           11 : \"roundabout\", \n",
    "           12 : \"soccer-ball-field\", \n",
    "           13 :\"plane\", \n",
    "           14 : \"harbor\",\n",
    "           15 : \"container-crane\"}"
   ]
  },
  {
   "cell_type": "code",
   "execution_count": 9,
   "id": "2c15b1cf-b1fe-4dcf-be16-4c8f73103883",
   "metadata": {},
   "outputs": [],
   "source": [
    "def transform_target(original_target_dict_list, output_file, target_size = 1024):\n",
    "    '''\n",
    "    Transforms the bounding box coordinates to <label x_center y_center width height> yolo format\n",
    "\n",
    "    original_target_dict_list: Dictionaries of all bounding boxes in an image\n",
    "    output_file: Path where new label text file is to be saved\n",
    "    '''\n",
    "    calculated_parameters = []\n",
    "    for bbox_dict in original_target_dict_list:\n",
    "        label = class_to_idx[bbox_dict['label']]\n",
    "        if bbox_dict['x2'] >= bbox_dict['x1'] and bbox_dict['y4'] >= bbox_dict['y1']:\n",
    "            center_x = ((bbox_dict['x1'] + bbox_dict['x2']) / 2) / target_size\n",
    "            center_y = ((bbox_dict['y1'] + bbox_dict['y4']) / 2) / target_size\n",
    "            width = (bbox_dict['x2'] - bbox_dict['x1']) / target_size\n",
    "            height = (bbox_dict['y4'] - bbox_dict['y1']) / target_size\n",
    "            calculated_parameters.append(f\"{label} {center_x} {center_y} {width} {height}\")\n",
    "        else:\n",
    "            print(\"Error: Bounding box coordinates wrong.\")\n",
    "            print(output_file)\n",
    "            break\n",
    "\n",
    "    if calculated_parameters:\n",
    "        with open(output_file, 'w') as f:\n",
    "            for params in calculated_parameters:\n",
    "                f.write(params + '\\n')"
   ]
  },
  {
   "cell_type": "code",
   "execution_count": 10,
   "id": "f74da711-d0ce-48a4-8e66-7ff027ce0567",
   "metadata": {},
   "outputs": [],
   "source": [
    "def transform_target_for_yolo(original_target_path, output_file_path):\n",
    "    '''\n",
    "    Pipeline for transforming targets for yolo\n",
    "\n",
    "    original_target_path: Path of original DOTA target (format: x1 y1 x2 y2 x3 y3 x4 y4 label difficulty)\n",
    "    output_file: Path where new yolo label text file is to be saved\n",
    "    '''\n",
    "    lines = read_txt(original_target_path)\n",
    "    extracted_coordinates = extract_hbb(lines)\n",
    "    transform_target(extracted_coordinates, output_file_path)"
   ]
  },
  {
   "cell_type": "code",
   "execution_count": 11,
   "id": "c2b330d5-7886-4db0-8c6b-64a913fc691a",
   "metadata": {},
   "outputs": [],
   "source": [
    "if not os.path.exists(join(DATA_DIR, \"dota_yolo\")):\n",
    "    os.mkdir(join(DATA_DIR, \"dota_yolo\"))\n",
    "    os.mkdir(join(DATA_DIR, \"dota_yolo\", \"train\"))\n",
    "    os.mkdir(join(DATA_DIR, \"dota_yolo\", \"val\"))\n",
    "    os.mkdir(join(DATA_DIR, \"dota_yolo\", \"test\"))"
   ]
  },
  {
   "cell_type": "code",
   "execution_count": 82,
   "id": "50d4e8ac-e3f8-4570-9044-5306d8eacd46",
   "metadata": {},
   "outputs": [
    {
     "name": "stdout",
     "output_type": "stream",
     "text": [
      "Copied train images from ../04-Data/patches/train_images_patches to ../04-Data/dota_yolo/train/images.\n"
     ]
    }
   ],
   "source": [
    "# Create train image dir and copy train images\n",
    "yolo_train_images_dir = join(DATA_DIR, \"dota_yolo\", \"train\", \"images\")\n",
    "if not os.path.exists(yolo_train_images_dir):\n",
    "    os.mkdir(yolo_train_images_dir)\n",
    "    print(f'Created yolo train image directory at {yolo_train_images_dir}')\n",
    "for image_path in train_images_list:\n",
    "    base_name = basename(image_path)\n",
    "    copy_to_path = join(yolo_train_images_dir, base_name)\n",
    "    shutil.copy(image_path, copy_to_path)\n",
    "print(f\"Copied train images from {train_images_path} to {yolo_train_images_dir}.\")"
   ]
  },
  {
   "cell_type": "code",
   "execution_count": 83,
   "id": "7255a896-7751-411d-bbfd-48a1633e2b3e",
   "metadata": {},
   "outputs": [
    {
     "name": "stdout",
     "output_type": "stream",
     "text": [
      "Saved yolo train targets to ../04-Data/dota_yolo/train/labels\n"
     ]
    }
   ],
   "source": [
    "# Create train target dir and transform train targets\n",
    "yolo_train_target_dir = join(DATA_DIR, \"dota_yolo\", \"train\", \"labels\")\n",
    "if not os.path.exists(yolo_train_target_dir):\n",
    "    os.makedirs(yolo_train_target_dir)\n",
    "    print(f'Created yolo train target directory at {yolo_train_target_dir}')\n",
    "for original_train_target_path in train_targets_list:\n",
    "    base_name = basename(original_train_target_path)\n",
    "    yolo_train_target_path = join(yolo_train_target_dir, base_name)\n",
    "    transform_target_for_yolo(original_train_target_path, yolo_train_target_path)\n",
    "print(f\"Saved yolo train targets to {yolo_train_target_dir}\")"
   ]
  },
  {
   "cell_type": "code",
   "execution_count": 45,
   "id": "73906860-d2f9-4685-9c25-41ec4f5c3759",
   "metadata": {},
   "outputs": [
    {
     "name": "stdout",
     "output_type": "stream",
     "text": [
      "Copied val images from ../04-Data/patches/val_images_patches to ../04-Data/dota_yolo/val/images.\n"
     ]
    }
   ],
   "source": [
    "# Create val image dir and copy val images\n",
    "yolo_val_images_dir = join(DATA_DIR, \"dota_yolo\", \"val\", \"images\")\n",
    "if not os.path.exists(yolo_val_images_dir):\n",
    "    os.makedirs(yolo_val_images_dir)\n",
    "    print(f'Created yolo val image directory at {yolo_val_images_dir}')\n",
    "for image_path in val_images_list:\n",
    "    base_name = basename(image_path)\n",
    "    copy_to_path = join(yolo_val_images_dir, base_name)\n",
    "    shutil.copy(image_path, copy_to_path)\n",
    "print(f\"Copied val images from {val_images_path} to {yolo_val_images_dir}.\")"
   ]
  },
  {
   "cell_type": "code",
   "execution_count": 46,
   "id": "31eea729-7a58-45f6-b9c3-ee984e782ce8",
   "metadata": {},
   "outputs": [
    {
     "name": "stdout",
     "output_type": "stream",
     "text": [
      "../04-Data/patches/val_images_patches/P0004/P0004_1024_OL-256_x-0_y-0.png\n",
      "3139\n",
      "../04-Data/patches/val_targets_patches/P0004/P0004_1024_OL-256_x-0_y-0.txt\n",
      "3139\n"
     ]
    }
   ],
   "source": [
    "print(val_images_list[0])\n",
    "print(len(val_images_list))\n",
    "print(val_targets_list[0])\n",
    "print(len(val_targets_list))"
   ]
  },
  {
   "cell_type": "code",
   "execution_count": 47,
   "id": "fbbdd0bb-4f8f-488c-b74c-0fe718f62e8b",
   "metadata": {},
   "outputs": [
    {
     "name": "stdout",
     "output_type": "stream",
     "text": [
      "Created yolo val target directory at ../04-Data/dota_yolo/val/labels\n",
      "Saved yolo val targets to ../04-Data/dota_yolo/val/labels\n"
     ]
    }
   ],
   "source": [
    "# Create val target dir and transform val targets\n",
    "yolo_val_target_dir = join(DATA_DIR, \"dota_yolo\", \"val\", \"labels\")\n",
    "if not os.path.exists(yolo_val_target_dir):\n",
    "    os.makedirs(yolo_val_target_dir)\n",
    "    print(f'Created yolo val target directory at {yolo_val_target_dir}')\n",
    "for original_val_target_path in val_targets_list:\n",
    "    base_name = basename(original_val_target_path)\n",
    "    yolo_val_target_path = join(yolo_val_target_dir, base_name)\n",
    "    transform_target_for_yolo(original_val_target_path, yolo_val_target_path)\n",
    "print(f\"Saved yolo val targets to {yolo_val_target_dir}\")"
   ]
  },
  {
   "cell_type": "code",
   "execution_count": 50,
   "id": "fceb4e0b-ef29-4494-a66b-c6d073218f4c",
   "metadata": {},
   "outputs": [
    {
     "name": "stdout",
     "output_type": "stream",
     "text": [
      "Copied test images from ../04-Data/patches/test_images_patches to ../04-Data/dota_yolo/test/images.\n"
     ]
    }
   ],
   "source": [
    "# Create test image dir and copy test images\n",
    "yolo_test_images_dir = join(DATA_DIR, \"dota_yolo\", \"test\", \"images\")\n",
    "if not os.path.exists(yolo_test_images_dir):\n",
    "    os.makedirs(yolo_test_images_dir)\n",
    "    print(f'Created yolo test image directory at {yolo_test_images_dir}')\n",
    "for image_path in test_images_list:\n",
    "    base_name = basename(image_path)\n",
    "    copy_to_path = join(yolo_test_images_dir, base_name)\n",
    "    shutil.copy(image_path, copy_to_path)\n",
    "print(f\"Copied test images from {test_images_path} to {yolo_test_images_dir}.\")"
   ]
  },
  {
   "cell_type": "code",
   "execution_count": 51,
   "id": "0eafd243-29f2-4ce3-9575-b97487ae428e",
   "metadata": {},
   "outputs": [
    {
     "name": "stdout",
     "output_type": "stream",
     "text": [
      "Created yolo test target directory at ../04-Data/dota_yolo/test/labels\n",
      "Saved yolo test targets to ../04-Data/dota_yolo/test/labels\n"
     ]
    }
   ],
   "source": [
    "# Create test target dir and transform test targets\n",
    "yolo_test_target_dir = join(DATA_DIR, \"dota_yolo\", \"test\", \"labels\")\n",
    "if not os.path.exists(yolo_test_target_dir):\n",
    "    os.makedirs(yolo_test_target_dir)\n",
    "    print(f'Created yolo test target directory at {yolo_test_target_dir}')\n",
    "for original_test_target_path in test_targets_list:\n",
    "    base_name = basename(original_test_target_path)\n",
    "    yolo_test_target_path = join(yolo_test_target_dir, base_name)\n",
    "    transform_target_for_yolo(original_test_target_path, yolo_test_target_path)\n",
    "print(f\"Saved yolo test targets to {yolo_test_target_dir}\")"
   ]
  },
  {
   "cell_type": "code",
   "execution_count": 82,
   "id": "d91c4a96-f0e9-406e-84ad-b928017d9b03",
   "metadata": {},
   "outputs": [],
   "source": [
    "# Create dataset .yaml file\n",
    "DATA_DIR = \"../04-Data\"\n",
    "data = {\n",
    "    'path': os.path.abspath(DATA_DIR),\n",
    "    'train': join(\"train\", \"images\"),\n",
    "    'val': join(\"val\", \"images\"),\n",
    "    'names': {\n",
    "           0 : \"ship\", \n",
    "           1 : \"storage-tank\", \n",
    "           2 : \"baseball-diamond\", \n",
    "           3 : \"tennis-court\", \n",
    "           4 : \"basketball-court\", \n",
    "           5 : \"ground-track-field\", \n",
    "           6 : \"bridge\", \n",
    "           7 : \"large-vehicle\", \n",
    "           8 : \"small-vehicle\", \n",
    "           9 :\"helicopter\", \n",
    "           10 : \"swimming-pool\", \n",
    "           11 : \"roundabout\", \n",
    "           12 : \"soccer-ball-field\", \n",
    "           13 :\"plane\", \n",
    "           14 : \"harbor\",\n",
    "           15 : \"container-crane\"}\n",
    "    }\n",
    "\n",
    "# Writing data to a YAML file\n",
    "save_path = \"dota.yaml\"\n",
    "with open(save_path, 'w') as file:\n",
    "    yaml.dump(data, file)\n",
    "\n",
    "print(f\"Saved DOTA yaml file to {save_path}.\")"
   ]
  },
  {
   "cell_type": "markdown",
   "id": "e880f305-11e8-4068-81ea-1fd2977274f0",
   "metadata": {},
   "source": [
    "#### Create YOLOv8 model from scratch"
   ]
  },
  {
   "cell_type": "code",
   "execution_count": 98,
   "id": "a8fcac78-c4f9-413c-9c5d-8563f28c88c2",
   "metadata": {},
   "outputs": [],
   "source": [
    "model = YOLO(\"yolov8n.yaml\")"
   ]
  },
  {
   "cell_type": "code",
   "execution_count": 99,
   "id": "ff494f0a-c4e1-4242-a582-b6eec91b4fe2",
   "metadata": {},
   "outputs": [],
   "source": [
    "#results = model.train(data=\"dota.yaml\", epochs=1, imgsz=1024, device=\"mps\", verbose = True)"
   ]
  },
  {
   "cell_type": "markdown",
   "id": "84cc273b-f761-4f89-a5b5-acbf0a2492c3",
   "metadata": {},
   "source": [
    "#### Load trained model"
   ]
  },
  {
   "cell_type": "code",
   "execution_count": 17,
   "id": "0560f2a8-be15-4cd3-8eb5-a17e07a0a20d",
   "metadata": {},
   "outputs": [],
   "source": [
    "model_bl = YOLO(\"../best_baseline.pt\")\n",
    "model_os = YOLO(\"../best_oversampling.pt\")\n",
    "model_aug = YOLO(\"../best_augment_final.pt\")"
   ]
  },
  {
   "cell_type": "markdown",
   "id": "fde2c08e-8050-4737-8ad1-316be4a79b97",
   "metadata": {},
   "source": [
    "#### Infer model"
   ]
  },
  {
   "cell_type": "code",
   "execution_count": 18,
   "id": "2df74a1e-4fde-48bb-b38a-158f8c35a8a9",
   "metadata": {},
   "outputs": [],
   "source": [
    "def show_prediction(model, images_list, index, ext):\n",
    "    path_image = images_list[index]\n",
    "    print(path_image)\n",
    "    results = model([path_image]) \n",
    "    for result in results:\n",
    "        boxes = result.boxes\n",
    "        result.show()\n",
    "        result.save(filename=\"result\" + ext +\".png\")"
   ]
  },
  {
   "cell_type": "code",
   "execution_count": 23,
   "id": "37d56b42-a9a1-4d36-8863-9ac4774473e8",
   "metadata": {},
   "outputs": [
    {
     "name": "stdout",
     "output_type": "stream",
     "text": [
      "../04-Data/patches_1024/test_images_patches/P1809/P1809_1024_OL-0_x-5120_y-2048.png\n",
      "\n",
      "0: 1024x1024 108 small-vehicles, 1 plane, 384.6ms\n",
      "Speed: 4.9ms preprocess, 384.6ms inference, 0.6ms postprocess per image at shape (1, 3, 1024, 1024)\n",
      "../04-Data/patches_1024/test_images_patches/P1809/P1809_1024_OL-0_x-5120_y-2048.png\n",
      "\n",
      "0: 1024x1024 1 large-vehicle, 147 small-vehicles, 1 plane, 393.6ms\n",
      "Speed: 5.7ms preprocess, 393.6ms inference, 0.8ms postprocess per image at shape (1, 3, 1024, 1024)\n",
      "../04-Data/patches_1024/test_images_patches/P1809/P1809_1024_OL-0_x-5120_y-2048.png\n",
      "\n",
      "0: 1024x1024 124 small-vehicles, 402.0ms\n",
      "Speed: 5.0ms preprocess, 402.0ms inference, 0.8ms postprocess per image at shape (1, 3, 1024, 1024)\n"
     ]
    }
   ],
   "source": [
    "index = 1607\n",
    "show_prediction(model_bl, test_images_list, index, \"_bl\")\n",
    "show_prediction(model_os, test_images_list, index, \"_os\")\n",
    "show_prediction(model_aug, test_images_list, index, \"_aug\")"
   ]
  }
 ],
 "metadata": {
  "kernelspec": {
   "display_name": "venvFinalProject",
   "language": "python",
   "name": "venvfinalproject"
  },
  "language_info": {
   "codemirror_mode": {
    "name": "ipython",
    "version": 3
   },
   "file_extension": ".py",
   "mimetype": "text/x-python",
   "name": "python",
   "nbconvert_exporter": "python",
   "pygments_lexer": "ipython3",
   "version": "3.12.5"
  }
 },
 "nbformat": 4,
 "nbformat_minor": 5
}
